{
 "cells": [
  {
   "cell_type": "code",
   "execution_count": 3,
   "id": "detected-tender",
   "metadata": {},
   "outputs": [],
   "source": [
    "import numpy as np"
   ]
  },
  {
   "cell_type": "code",
   "execution_count": 4,
   "id": "cooked-praise",
   "metadata": {},
   "outputs": [
    {
     "name": "stdout",
     "output_type": "stream",
     "text": [
      "[[2528 4067 1765 ... 3179 2516 2010]\n",
      " [4512  528 2738 ... 2876 4819 4585]\n",
      " [3237  833 2936 ... 3755 1985 4572]\n",
      " ...\n",
      " [2719 4397 1731 ...  834 3869 4777]\n",
      " [3708  740 1970 ...  329 2415  507]\n",
      " [1707 3097  404 ... 1808 1235 1690]]\n"
     ]
    }
   ],
   "source": [
    "# creating an array with range from 0 to 5000 and shape of 1000 rows by 20 columns\n",
    "X = np.random.randint(0, 5000, (1000, 20))\n",
    "print(X)"
   ]
  },
  {
   "cell_type": "code",
   "execution_count": 7,
   "id": "desirable-brother",
   "metadata": {},
   "outputs": [
    {
     "name": "stdout",
     "output_type": "stream",
     "text": [
      "[[ 0.00324509  0.31110666 -0.14938544 ...  0.13347113  0.00084461\n",
      "  -0.10037564]\n",
      " [ 0.40012446 -0.39683493  0.04525349 ...  0.07285901  0.46153675\n",
      "   0.41472739]\n",
      " [ 0.14507345 -0.33582272  0.08486141 ...  0.24869418 -0.10537664\n",
      "   0.41212687]\n",
      " ...\n",
      " [ 0.04145273  0.37711986 -0.1561868  ... -0.33562268  0.27149874\n",
      "   0.45313507]\n",
      " [ 0.2392923  -0.35442645 -0.10837724 ... -0.43664289 -0.01935943\n",
      "  -0.40103577]\n",
      " [-0.16098776  0.11706785 -0.42163989 ... -0.14078372 -0.25540664\n",
      "  -0.16438844]]\n"
     ]
    }
   ],
   "source": [
    "# Mean Normalization of array\n",
    "nX = (X-X.mean())/(X.max()-X.min())   # \"nX\" is the normalized version of \n",
    "print(nX)"
   ]
  },
  {
   "cell_type": "markdown",
   "id": "other-louis",
   "metadata": {},
   "source": [
    "<b>_Now, the array's data have been normalized evenly between 0 which means the max and min are at the same distance from 0, and average is close to zero._</b> "
   ]
  },
  {
   "cell_type": "code",
   "execution_count": 8,
   "id": "interested-relationship",
   "metadata": {},
   "outputs": [
    {
     "name": "stdout",
     "output_type": "stream",
     "text": [
      "Average:  3.135269821541442e-17\n",
      "the Maximium element:  0.497543948789758\n",
      "the Minimium element:  -0.5024560512102421\n"
     ]
    }
   ],
   "source": [
    "print(\"Average: \", nX.mean())\n",
    "print(\"the Maximium element: \", nX.max())\n",
    "print(\"the Minimium element: \", nX.min())"
   ]
  },
  {
   "cell_type": "markdown",
   "id": "burning-disabled",
   "metadata": {},
   "source": [
    "# DATA SEPARATION\n",
    " __now, we have done the normalization part and now we moving on break down the data in hand.__\n",
    " \n",
    " we will classify the Data into three categories:\n",
    " ### 1. trainnig dataset. contains 60% of original dat\n",
    " ### 2. cross validation dataset. 20%\n",
    " ### 3. testing dataset. 20%"
   ]
  },
  {
   "cell_type": "code",
   "execution_count": 28,
   "id": "amber-extent",
   "metadata": {},
   "outputs": [],
   "source": [
    "# creating random permutation of numbers for array indices\n",
    "row_indices = np.random.permutation(1000)\n",
    "# for trainning \n",
    "train = row_indices[0:600]\n",
    "X_train = nX[train]\n",
    "# for validation\n",
    "validation = row_indices[600:800]\n",
    "X_validation = nX[validation]\n",
    "# for testing\n",
    "test = row_indices[800:1000]\n",
    "X_test = nX[test]"
   ]
  },
  {
   "cell_type": "markdown",
   "id": "executed-holmes",
   "metadata": {},
   "source": [
    "#### so now the data have been distributed over three categories and we are done for this mini project."
   ]
  }
 ],
 "metadata": {
  "kernelspec": {
   "display_name": "Python 3",
   "language": "python",
   "name": "python3"
  },
  "language_info": {
   "codemirror_mode": {
    "name": "ipython",
    "version": 3
   },
   "file_extension": ".py",
   "mimetype": "text/x-python",
   "name": "python",
   "nbconvert_exporter": "python",
   "pygments_lexer": "ipython3",
   "version": "3.8.10"
  }
 },
 "nbformat": 4,
 "nbformat_minor": 5
}
